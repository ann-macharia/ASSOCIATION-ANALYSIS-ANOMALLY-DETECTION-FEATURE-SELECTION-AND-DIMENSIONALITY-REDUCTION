{
 "cells": [
  {
   "cell_type": "markdown",
   "metadata": {},
   "source": [
    "# PART 3: ANOMALLY DETECTION"
   ]
  },
  {
   "cell_type": "markdown",
   "metadata": {},
   "source": [
    "## Reading in the data"
   ]
  },
  {
   "cell_type": "code",
   "execution_count": 1,
   "metadata": {},
   "outputs": [],
   "source": [
    "df3 = read.csv('./Supermarket_Sales_Forecasting - Sales.csv')"
   ]
  },
  {
   "cell_type": "markdown",
   "metadata": {},
   "source": [
    "## Checking the data"
   ]
  },
  {
   "cell_type": "code",
   "execution_count": 2,
   "metadata": {},
   "outputs": [
    {
     "data": {
      "text/html": [
       "<table>\n",
       "<thead><tr><th scope=col>Date</th><th scope=col>Sales</th></tr></thead>\n",
       "<tbody>\n",
       "\t<tr><td>1/5/2019 </td><td>548.9715 </td></tr>\n",
       "\t<tr><td>3/8/2019 </td><td> 80.2200 </td></tr>\n",
       "\t<tr><td>3/3/2019 </td><td>340.5255 </td></tr>\n",
       "\t<tr><td>1/27/2019</td><td>489.0480 </td></tr>\n",
       "\t<tr><td>2/8/2019 </td><td>634.3785 </td></tr>\n",
       "\t<tr><td>3/25/2019</td><td>627.6165 </td></tr>\n",
       "</tbody>\n",
       "</table>\n"
      ],
      "text/latex": [
       "\\begin{tabular}{r|ll}\n",
       " Date & Sales\\\\\n",
       "\\hline\n",
       "\t 1/5/2019  & 548.9715 \\\\\n",
       "\t 3/8/2019  &  80.2200 \\\\\n",
       "\t 3/3/2019  & 340.5255 \\\\\n",
       "\t 1/27/2019 & 489.0480 \\\\\n",
       "\t 2/8/2019  & 634.3785 \\\\\n",
       "\t 3/25/2019 & 627.6165 \\\\\n",
       "\\end{tabular}\n"
      ],
      "text/markdown": [
       "\n",
       "| Date | Sales |\n",
       "|---|---|\n",
       "| 1/5/2019  | 548.9715  |\n",
       "| 3/8/2019  |  80.2200  |\n",
       "| 3/3/2019  | 340.5255  |\n",
       "| 1/27/2019 | 489.0480  |\n",
       "| 2/8/2019  | 634.3785  |\n",
       "| 3/25/2019 | 627.6165  |\n",
       "\n"
      ],
      "text/plain": [
       "  Date      Sales   \n",
       "1 1/5/2019  548.9715\n",
       "2 3/8/2019   80.2200\n",
       "3 3/3/2019  340.5255\n",
       "4 1/27/2019 489.0480\n",
       "5 2/8/2019  634.3785\n",
       "6 3/25/2019 627.6165"
      ]
     },
     "metadata": {},
     "output_type": "display_data"
    }
   ],
   "source": [
    "head(df3)"
   ]
  },
  {
   "cell_type": "code",
   "execution_count": 3,
   "metadata": {},
   "outputs": [
    {
     "data": {
      "text/html": [
       "<ol class=list-inline>\n",
       "\t<li>1000</li>\n",
       "\t<li>2</li>\n",
       "</ol>\n"
      ],
      "text/latex": [
       "\\begin{enumerate*}\n",
       "\\item 1000\n",
       "\\item 2\n",
       "\\end{enumerate*}\n"
      ],
      "text/markdown": [
       "1. 1000\n",
       "2. 2\n",
       "\n",
       "\n"
      ],
      "text/plain": [
       "[1] 1000    2"
      ]
     },
     "metadata": {},
     "output_type": "display_data"
    }
   ],
   "source": [
    "dim(df3)"
   ]
  },
  {
   "cell_type": "markdown",
   "metadata": {},
   "source": [
    "The data has 1000 rows and 2 columns"
   ]
  },
  {
   "cell_type": "code",
   "execution_count": 4,
   "metadata": {},
   "outputs": [
    {
     "name": "stdout",
     "output_type": "stream",
     "text": [
      "'data.frame':\t1000 obs. of  2 variables:\n",
      " $ Date : Factor w/ 89 levels \"1/1/2019\",\"1/10/2019\",..: 27 88 82 20 58 77 49 48 2 44 ...\n",
      " $ Sales: num  549 80.2 340.5 489 634.4 ...\n"
     ]
    }
   ],
   "source": [
    "# Checking data structure\n",
    "str(df3)"
   ]
  },
  {
   "cell_type": "markdown",
   "metadata": {},
   "source": [
    "- df3 is a data frame.\n",
    "- Date should be a date type and not a factor\n",
    "- Sales has the correct data type"
   ]
  },
  {
   "cell_type": "code",
   "execution_count": 5,
   "metadata": {},
   "outputs": [],
   "source": [
    "# Converting sales from a factor to date type\n",
    "df3$Date <- as.Date(df3$Date, \"%m/%d/%Y\")"
   ]
  },
  {
   "cell_type": "code",
   "execution_count": 6,
   "metadata": {},
   "outputs": [
    {
     "name": "stdout",
     "output_type": "stream",
     "text": [
      "'data.frame':\t1000 obs. of  2 variables:\n",
      " $ Date : Date, format: \"2019-01-05\" \"2019-03-08\" ...\n",
      " $ Sales: num  549 80.2 340.5 489 634.4 ...\n"
     ]
    }
   ],
   "source": [
    "# Checking new data structure.\n",
    "str(df3)"
   ]
  },
  {
   "cell_type": "markdown",
   "metadata": {},
   "source": [
    "Date colums has been converted from a faactor to date with the format \"%m/%d/%Y\""
   ]
  },
  {
   "cell_type": "markdown",
   "metadata": {},
   "source": [
    "## Tidying the dataset"
   ]
  },
  {
   "cell_type": "code",
   "execution_count": 7,
   "metadata": {},
   "outputs": [
    {
     "name": "stderr",
     "output_type": "stream",
     "text": [
      "Warning message:\n",
      "\"package 'DataExplorer' was built under R version 3.6.3\""
     ]
    },
    {
     "data": {
      "image/png": "[encoded data removed]",
      "text/plain": [
       "plot without title"
      ]
     },
     "metadata": {},
     "output_type": "display_data"
    }
   ],
   "source": [
    "# Checking for missing values.\n",
    "library(DataExplorer)\n",
    "plot_missing(df3)"
   ]
  },
  {
   "cell_type": "markdown",
   "metadata": {},
   "source": [
    "The data has no missing values"
   ]
  },
  {
   "cell_type": "code",
   "execution_count": 8,
   "metadata": {},
   "outputs": [
    {
     "data": {
      "text/html": [
       "<ol class=list-inline>\n",
       "\t<li>0</li>\n",
       "\t<li>2</li>\n",
       "</ol>\n"
      ],
      "text/latex": [
       "\\begin{enumerate*}\n",
       "\\item 0\n",
       "\\item 2\n",
       "\\end{enumerate*}\n"
      ],
      "text/markdown": [
       "1. 0\n",
       "2. 2\n",
       "\n",
       "\n"
      ],
      "text/plain": [
       "[1] 0 2"
      ]
     },
     "metadata": {},
     "output_type": "display_data"
    }
   ],
   "source": [
    "# Checking for duplicates.\n",
    "df3_dup = df3[duplicated(df3), ]\n",
    "dim(df3_dup)"
   ]
  },
  {
   "cell_type": "markdown",
   "metadata": {},
   "source": [
    "Data has no duplicates"
   ]
  },
  {
   "cell_type": "markdown",
   "metadata": {},
   "source": [
    "## Exploratory data analysis"
   ]
  },
  {
   "cell_type": "code",
   "execution_count": 10,
   "metadata": {},
   "outputs": [
    {
     "data": {
      "text/html": [
       "<table>\n",
       "<thead><tr><th scope=col>Date</th><th scope=col>Sales</th></tr></thead>\n",
       "<tbody>\n",
       "\t<tr><td>2019-01-05</td><td>548.9715  </td></tr>\n",
       "\t<tr><td>2019-03-08</td><td> 80.2200  </td></tr>\n",
       "\t<tr><td>2019-03-03</td><td>340.5255  </td></tr>\n",
       "\t<tr><td>2019-01-27</td><td>489.0480  </td></tr>\n",
       "\t<tr><td>2019-02-08</td><td>634.3785  </td></tr>\n",
       "\t<tr><td>2019-03-25</td><td>627.6165  </td></tr>\n",
       "</tbody>\n",
       "</table>\n"
      ],
      "text/latex": [
       "\\begin{tabular}{r|ll}\n",
       " Date & Sales\\\\\n",
       "\\hline\n",
       "\t 2019-01-05 & 548.9715  \\\\\n",
       "\t 2019-03-08 &  80.2200  \\\\\n",
       "\t 2019-03-03 & 340.5255  \\\\\n",
       "\t 2019-01-27 & 489.0480  \\\\\n",
       "\t 2019-02-08 & 634.3785  \\\\\n",
       "\t 2019-03-25 & 627.6165  \\\\\n",
       "\\end{tabular}\n"
      ],
      "text/markdown": [
       "\n",
       "| Date | Sales |\n",
       "|---|---|\n",
       "| 2019-01-05 | 548.9715   |\n",
       "| 2019-03-08 |  80.2200   |\n",
       "| 2019-03-03 | 340.5255   |\n",
       "| 2019-01-27 | 489.0480   |\n",
       "| 2019-02-08 | 634.3785   |\n",
       "| 2019-03-25 | 627.6165   |\n",
       "\n"
      ],
      "text/plain": [
       "  Date       Sales   \n",
       "1 2019-01-05 548.9715\n",
       "2 2019-03-08  80.2200\n",
       "3 2019-03-03 340.5255\n",
       "4 2019-01-27 489.0480\n",
       "5 2019-02-08 634.3785\n",
       "6 2019-03-25 627.6165"
      ]
     },
     "metadata": {},
     "output_type": "display_data"
    }
   ],
   "source": [
    "# Data preview\n",
    "head(df3)"
   ]
  },
  {
   "cell_type": "markdown",
   "metadata": {},
   "source": [
    "The sales variable is skewed to the right, There are more less values than large values "
   ]
  },
  {
   "cell_type": "code",
   "execution_count": 22,
   "metadata": {},
   "outputs": [
    {
     "data": {
      "image/png": "[encoded data removed]",
      "text/plain": [
       "plot without title"
      ]
     },
     "metadata": {},
     "output_type": "display_data"
    }
   ],
   "source": [
    "ggplot(data = df3, aes(x = Date, y = Sales)) +\n",
    "      geom_bar(stat = \"identity\", fill = \"purple\") +\n",
    "      labs(title = \"Sales distribution\",\n",
    "           x = \"Date\", y = \"Sales(ksh)\")"
   ]
  },
  {
   "cell_type": "markdown",
   "metadata": {},
   "source": [
    "The sales fluctuate over the months. Highest sales occured in february"
   ]
  },
  {
   "cell_type": "markdown",
   "metadata": {},
   "source": [
    "## IMPLEMENTING SOLUTION: Detecting anomalies in the data"
   ]
  },
  {
   "cell_type": "code",
   "execution_count": 14,
   "metadata": {},
   "outputs": [
    {
     "name": "stderr",
     "output_type": "stream",
     "text": [
      "Warning message:\n",
      "\"package 'tidyverse' was built under R version 3.6.3\"-- Attaching packages --------------------------------------- tidyverse 1.3.0 --\n",
      "v tibble  2.1.3     v dplyr   0.8.4\n",
      "v tidyr   1.0.2     v stringr 1.4.0\n",
      "v readr   1.3.1     v forcats 0.4.0\n",
      "v purrr   0.3.3     \n",
      "Warning message:\n",
      "\"package 'tibble' was built under R version 3.6.2\"Warning message:\n",
      "\"package 'tidyr' was built under R version 3.6.2\"Warning message:\n",
      "\"package 'readr' was built under R version 3.6.2\"Warning message:\n",
      "\"package 'purrr' was built under R version 3.6.2\"Warning message:\n",
      "\"package 'dplyr' was built under R version 3.6.2\"Warning message:\n",
      "\"package 'stringr' was built under R version 3.6.2\"Warning message:\n",
      "\"package 'forcats' was built under R version 3.6.2\"-- Conflicts ------------------------------------------ tidyverse_conflicts() --\n",
      "x dplyr::filter()  masks stats::filter()\n",
      "x purrr::flatten() masks jsonlite::flatten()\n",
      "x dplyr::lag()     masks stats::lag()\n",
      "Warning message:\n",
      "\"package 'anomalize' was built under R version 3.6.3\"== Use anomalize to improve your Forecasts by 50%! =============================\n",
      "Business Science offers a 1-hour course - Lab #18: Time Series Anomaly Detection!\n",
      "</> Learn more at: https://university.business-science.io/p/learning-labs-pro </>\n",
      "Warning message:\n",
      "\"package 'tibbletime' was built under R version 3.6.3\"\n",
      "Attaching package: 'tibbletime'\n",
      "\n",
      "The following object is masked from 'package:stats':\n",
      "\n",
      "    filter\n",
      "\n"
     ]
    }
   ],
   "source": [
    "# Importing libraries\n",
    "library(tidyverse)\n",
    "library(anomalize)\n",
    "library(tibbletime)"
   ]
  },
  {
   "cell_type": "code",
   "execution_count": 15,
   "metadata": {},
   "outputs": [
    {
     "data": {
      "text/html": [
       "<table>\n",
       "<thead><tr><th scope=col>Date</th><th scope=col>Sales</th></tr></thead>\n",
       "<tbody>\n",
       "\t<tr><td>2019-01-05</td><td>548.9715  </td></tr>\n",
       "\t<tr><td>2019-03-08</td><td> 80.2200  </td></tr>\n",
       "\t<tr><td>2019-03-03</td><td>340.5255  </td></tr>\n",
       "\t<tr><td>2019-01-27</td><td>489.0480  </td></tr>\n",
       "\t<tr><td>2019-02-08</td><td>634.3785  </td></tr>\n",
       "\t<tr><td>2019-03-25</td><td>627.6165  </td></tr>\n",
       "</tbody>\n",
       "</table>\n"
      ],
      "text/latex": [
       "\\begin{tabular}{r|ll}\n",
       " Date & Sales\\\\\n",
       "\\hline\n",
       "\t 2019-01-05 & 548.9715  \\\\\n",
       "\t 2019-03-08 &  80.2200  \\\\\n",
       "\t 2019-03-03 & 340.5255  \\\\\n",
       "\t 2019-01-27 & 489.0480  \\\\\n",
       "\t 2019-02-08 & 634.3785  \\\\\n",
       "\t 2019-03-25 & 627.6165  \\\\\n",
       "\\end{tabular}\n"
      ],
      "text/markdown": [
       "\n",
       "| Date | Sales |\n",
       "|---|---|\n",
       "| 2019-01-05 | 548.9715   |\n",
       "| 2019-03-08 |  80.2200   |\n",
       "| 2019-03-03 | 340.5255   |\n",
       "| 2019-01-27 | 489.0480   |\n",
       "| 2019-02-08 | 634.3785   |\n",
       "| 2019-03-25 | 627.6165   |\n",
       "\n"
      ],
      "text/plain": [
       "  Date       Sales   \n",
       "1 2019-01-05 548.9715\n",
       "2 2019-03-08  80.2200\n",
       "3 2019-03-03 340.5255\n",
       "4 2019-01-27 489.0480\n",
       "5 2019-02-08 634.3785\n",
       "6 2019-03-25 627.6165"
      ]
     },
     "metadata": {},
     "output_type": "display_data"
    }
   ],
   "source": [
    "# Previewing the data\n",
    "head(df3)"
   ]
  },
  {
   "cell_type": "markdown",
   "metadata": {},
   "source": [
    "The data is not ordered, therefore we order the data by the Date column"
   ]
  },
  {
   "cell_type": "code",
   "execution_count": 16,
   "metadata": {},
   "outputs": [
    {
     "data": {
      "text/html": [
       "<table>\n",
       "<thead><tr><th scope=col>Date</th><th scope=col>Sales</th></tr></thead>\n",
       "<tbody>\n",
       "\t<tr><td>2019-01-01</td><td>457.443   </td></tr>\n",
       "\t<tr><td>2019-01-01</td><td>399.756   </td></tr>\n",
       "\t<tr><td>2019-01-01</td><td>470.673   </td></tr>\n",
       "\t<tr><td>2019-01-01</td><td>388.290   </td></tr>\n",
       "\t<tr><td>2019-01-01</td><td>132.762   </td></tr>\n",
       "\t<tr><td>2019-01-01</td><td>132.027   </td></tr>\n",
       "</tbody>\n",
       "</table>\n"
      ],
      "text/latex": [
       "\\begin{tabular}{r|ll}\n",
       " Date & Sales\\\\\n",
       "\\hline\n",
       "\t 2019-01-01 & 457.443   \\\\\n",
       "\t 2019-01-01 & 399.756   \\\\\n",
       "\t 2019-01-01 & 470.673   \\\\\n",
       "\t 2019-01-01 & 388.290   \\\\\n",
       "\t 2019-01-01 & 132.762   \\\\\n",
       "\t 2019-01-01 & 132.027   \\\\\n",
       "\\end{tabular}\n"
      ],
      "text/markdown": [
       "\n",
       "| Date | Sales |\n",
       "|---|---|\n",
       "| 2019-01-01 | 457.443    |\n",
       "| 2019-01-01 | 399.756    |\n",
       "| 2019-01-01 | 470.673    |\n",
       "| 2019-01-01 | 388.290    |\n",
       "| 2019-01-01 | 132.762    |\n",
       "| 2019-01-01 | 132.027    |\n",
       "\n"
      ],
      "text/plain": [
       "  Date       Sales  \n",
       "1 2019-01-01 457.443\n",
       "2 2019-01-01 399.756\n",
       "3 2019-01-01 470.673\n",
       "4 2019-01-01 388.290\n",
       "5 2019-01-01 132.762\n",
       "6 2019-01-01 132.027"
      ]
     },
     "metadata": {},
     "output_type": "display_data"
    }
   ],
   "source": [
    "# Loading the library\n",
    "library(tidyverse)\n",
    "\n",
    "#Ordering the data by Date\n",
    "df3 = df3 %>% arrange(Date)\n",
    "head(df3)"
   ]
  },
  {
   "cell_type": "markdown",
   "metadata": {},
   "source": [
    "The data is now ordered by date"
   ]
  },
  {
   "cell_type": "markdown",
   "metadata": {},
   "source": [
    "- Before anomally detection, we ensure that the date column has a period that is allowed for an index of class Date.\n",
    "- Only year, quarter, month, week, and day periods are allowed for an index of class Date.\n",
    "- Since our data has many records per day, I will get the average per day, so that the data has one record per day."
   ]
  },
  {
   "cell_type": "code",
   "execution_count": 17,
   "metadata": {},
   "outputs": [
    {
     "data": {
      "text/html": [
       "<table>\n",
       "<thead><tr><th scope=col>Date</th><th scope=col>Sales</th></tr></thead>\n",
       "<tbody>\n",
       "\t<tr><td>2019-01-01</td><td>395.4318  </td></tr>\n",
       "\t<tr><td>2019-01-02</td><td>243.1879  </td></tr>\n",
       "\t<tr><td>2019-01-03</td><td>259.7661  </td></tr>\n",
       "\t<tr><td>2019-01-04</td><td>270.6148  </td></tr>\n",
       "\t<tr><td>2019-01-05</td><td>294.7236  </td></tr>\n",
       "\t<tr><td>2019-01-06</td><td>401.5783  </td></tr>\n",
       "</tbody>\n",
       "</table>\n"
      ],
      "text/latex": [
       "\\begin{tabular}{r|ll}\n",
       " Date & Sales\\\\\n",
       "\\hline\n",
       "\t 2019-01-01 & 395.4318  \\\\\n",
       "\t 2019-01-02 & 243.1879  \\\\\n",
       "\t 2019-01-03 & 259.7661  \\\\\n",
       "\t 2019-01-04 & 270.6148  \\\\\n",
       "\t 2019-01-05 & 294.7236  \\\\\n",
       "\t 2019-01-06 & 401.5783  \\\\\n",
       "\\end{tabular}\n"
      ],
      "text/markdown": [
       "\n",
       "| Date | Sales |\n",
       "|---|---|\n",
       "| 2019-01-01 | 395.4318   |\n",
       "| 2019-01-02 | 243.1879   |\n",
       "| 2019-01-03 | 259.7661   |\n",
       "| 2019-01-04 | 270.6148   |\n",
       "| 2019-01-05 | 294.7236   |\n",
       "| 2019-01-06 | 401.5783   |\n",
       "\n"
      ],
      "text/plain": [
       "  Date       Sales   \n",
       "1 2019-01-01 395.4318\n",
       "2 2019-01-02 243.1879\n",
       "3 2019-01-03 259.7661\n",
       "4 2019-01-04 270.6148\n",
       "5 2019-01-05 294.7236\n",
       "6 2019-01-06 401.5783"
      ]
     },
     "metadata": {},
     "output_type": "display_data"
    }
   ],
   "source": [
    "df3 = aggregate(Sales ~ Date, df3, mean)\n",
    "head(df3)"
   ]
  },
  {
   "cell_type": "markdown",
   "metadata": {},
   "source": [
    "The data now has one record per day"
   ]
  },
  {
   "cell_type": "code",
   "execution_count": 18,
   "metadata": {},
   "outputs": [
    {
     "data": {
      "text/html": [
       "<ol class=list-inline>\n",
       "\t<li>'tbl_time'</li>\n",
       "\t<li>'tbl_df'</li>\n",
       "\t<li>'tbl'</li>\n",
       "\t<li>'data.frame'</li>\n",
       "</ol>\n"
      ],
      "text/latex": [
       "\\begin{enumerate*}\n",
       "\\item 'tbl\\_time'\n",
       "\\item 'tbl\\_df'\n",
       "\\item 'tbl'\n",
       "\\item 'data.frame'\n",
       "\\end{enumerate*}\n"
      ],
      "text/markdown": [
       "1. 'tbl_time'\n",
       "2. 'tbl_df'\n",
       "3. 'tbl'\n",
       "4. 'data.frame'\n",
       "\n",
       "\n"
      ],
      "text/plain": [
       "[1] \"tbl_time\"   \"tbl_df\"     \"tbl\"        \"data.frame\""
      ]
     },
     "metadata": {},
     "output_type": "display_data"
    }
   ],
   "source": [
    "# Converting data frame to a tibble time (tbl_time)\n",
    "# tbl_time have a time index that contains information about which column \n",
    "# should be used for time-based subsetting and other time-based manipulation,\n",
    "\n",
    "df3 = tbl_time(df3, Date)\n",
    "class(df3)"
   ]
  },
  {
   "cell_type": "code",
   "execution_count": 19,
   "metadata": {},
   "outputs": [
    {
     "data": {
      "text/html": [
       "<ol class=list-inline>\n",
       "\t<li>89</li>\n",
       "\t<li>2</li>\n",
       "</ol>\n"
      ],
      "text/latex": [
       "\\begin{enumerate*}\n",
       "\\item 89\n",
       "\\item 2\n",
       "\\end{enumerate*}\n"
      ],
      "text/markdown": [
       "1. 89\n",
       "2. 2\n",
       "\n",
       "\n"
      ],
      "text/plain": [
       "[1] 89  2"
      ]
     },
     "metadata": {},
     "output_type": "display_data"
    }
   ],
   "source": [
    "# Checking the dimensions of the reduced data set\n",
    "dim(df3)"
   ]
  },
  {
   "cell_type": "markdown",
   "metadata": {},
   "source": [
    "- The data has been reduced to 89 rows.\n",
    "- The 89 rows will be used to check for anomalies"
   ]
  },
  {
   "cell_type": "code",
   "execution_count": 20,
   "metadata": {},
   "outputs": [
    {
     "name": "stderr",
     "output_type": "stream",
     "text": [
      "frequency = 7 days\n",
      "trend = 30 days\n",
      "Registered S3 method overwritten by 'quantmod':\n",
      "  method            from\n",
      "  as.zoo.data.frame zoo \n"
     ]
    },
    {
     "data": {
      "image/png": "[encoded data removed]",
      "text/plain": [
       "plot without title"
      ]
     },
     "metadata": {},
     "output_type": "display_data"
    }
   ],
   "source": [
    "df3 %>%\n",
    "    time_decompose(Sales) %>%\n",
    "    anomalize(remainder) %>%\n",
    "    time_recompose() %>%\n",
    "    plot_anomalies(time_recomposed = TRUE, ncol = 2, alpha_dots = 0.5)\n"
   ]
  },
  {
   "cell_type": "markdown",
   "metadata": {},
   "source": [
    "Our data has no outliers"
   ]
  },
  {
   "cell_type": "markdown",
   "metadata": {},
   "source": [
    "## Challenging the solution"
   ]
  },
  {
   "cell_type": "markdown",
   "metadata": {},
   "source": [
    "- Getting the average of the sales per day may have reduced the effect of outliers, thus it was unable for them to be captured in the anomalies plot. \n",
    "- If the library would allow repeated period indexing, then maybe the outliers effect would no be suppressed\n"
   ]
  }
 ],
 "metadata": {
  "kernelspec": {
   "display_name": "R",
   "language": "R",
   "name": "ir"
  },
  "language_info": {
   "codemirror_mode": "r",
   "file_extension": ".r",
   "mimetype": "text/x-r-source",
   "name": "R",
   "pygments_lexer": "r",
   "version": "3.6.1"
  },
  "nbTranslate": {
   "displayLangs": [
    "*"
   ],
   "hotkey": "alt-t",
   "langInMainMenu": true,
   "sourceLang": "en",
   "targetLang": "fr",
   "useGoogleTranslate": true
  },
  "toc": {
   "base_numbering": 1,
   "nav_menu": {},
   "number_sections": true,
   "sideBar": true,
   "skip_h1_title": false,
   "title_cell": "Table of Contents",
   "title_sidebar": "Contents",
   "toc_cell": false,
   "toc_position": {},
   "toc_section_display": true,
   "toc_window_display": true
  }
 },
 "nbformat": 4,
 "nbformat_minor": 2
}
